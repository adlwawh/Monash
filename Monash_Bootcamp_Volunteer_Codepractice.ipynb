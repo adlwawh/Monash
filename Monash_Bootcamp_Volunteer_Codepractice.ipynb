{
 "cells": [
  {
   "cell_type": "code",
   "execution_count": 1,
   "metadata": {},
   "outputs": [
    {
     "name": "stdout",
     "output_type": "stream",
     "text": [
      "Please enter a list of integers by separating them with ',', e.g. '1, 2, 3, 4' (exclude the quotes) 2, 3, 4, 5, -2.0, 5, 99, 7\n",
      "Your input is 2, 3, 4, 5, -2, 5, 99, 7\n",
      "The formatted list of pairs is [(2, 3), (2, 5), (2, 5), (2, 7), (3, 4), (3, -2), (3, 99), (4, 5), (4, 5), (4, 7), (5, -2), (5, 99), (-2, 5), (-2, 7), (5, 99), (99, 7)]\n"
     ]
    }
   ],
   "source": [
    "# Simple list of integer input with validation\n",
    "input_str = \"Please enter a list of integers by separating them with ',', e.g. '1, 2, 3, 4' (exclude the quotes) \"\n",
    "while True:\n",
    "    # user input and transformations\n",
    "    inputs = input(input_str)\n",
    "    inputs_list = [_input.strip() for _input in inputs.split(',')] # strip leading and trailing whitespaces\n",
    "    integers_list = []\n",
    "    test_success = True\n",
    "    for _input in inputs_list:\n",
    "        try:\n",
    "            input_f = float(_input)\n",
    "            if input_f == int(input_f):\n",
    "                integers_list.append(int(input_f))\n",
    "                continue\n",
    "        except:\n",
    "            test_success = False\n",
    "            break\n",
    "\n",
    "    # validation if input is not integer\n",
    "    if test_success:\n",
    "        print('Your input is', ', '.join([str(integer) for integer in integers_list]))\n",
    "        break\n",
    "    else:\n",
    "        print('Your list of integers don\\'t conform to the format that we specify.')\n",
    "        while True:\n",
    "            answer = input('Do you want to continue?(Y/N)')\n",
    "            if answer not in ('Y', 'y', 'N', 'n'):\n",
    "                continue\n",
    "            else:\n",
    "                break\n",
    "        if answer in ('Y', 'y'):\n",
    "            continue\n",
    "        else:\n",
    "            break\n",
    "        \n",
    "# Find all pairs of numbers in the list whose product is even and whose sum is odd.\n",
    "def get_pair_from(a_list):\n",
    "    for i in range(len(a_list)):\n",
    "        for j in range(i, len(a_list)):\n",
    "            if (i * j) % 2 == 0 and (i + j) % 2 == 1:\n",
    "                yield (a_list[i], a_list[j])\n",
    "pairs = list(get_pair_from(integers_list))\n",
    "\n",
    "# print out formatted list of pairs\n",
    "print('The formatted list of pairs is {0}'.format(repr(pairs)))\n",
    "\n",
    "\n",
    "\n",
    "\n",
    "\n",
    "\n",
    "\n",
    "\n"
   ]
  }
 ],
 "metadata": {
  "kernelspec": {
   "display_name": "Python 3",
   "language": "python",
   "name": "python3"
  },
  "language_info": {
   "codemirror_mode": {
    "name": "ipython",
    "version": 3
   },
   "file_extension": ".py",
   "mimetype": "text/x-python",
   "name": "python",
   "nbconvert_exporter": "python",
   "pygments_lexer": "ipython3",
   "version": "3.7.4"
  },
  "toc": {
   "base_numbering": 1,
   "nav_menu": {},
   "number_sections": true,
   "sideBar": true,
   "skip_h1_title": false,
   "title_cell": "Table of Contents",
   "title_sidebar": "Contents",
   "toc_cell": false,
   "toc_position": {},
   "toc_section_display": true,
   "toc_window_display": false
  },
  "varInspector": {
   "cols": {
    "lenName": 16,
    "lenType": 16,
    "lenVar": 40
   },
   "kernels_config": {
    "python": {
     "delete_cmd_postfix": "",
     "delete_cmd_prefix": "del ",
     "library": "var_list.py",
     "varRefreshCmd": "print(var_dic_list())"
    },
    "r": {
     "delete_cmd_postfix": ") ",
     "delete_cmd_prefix": "rm(",
     "library": "var_list.r",
     "varRefreshCmd": "cat(var_dic_list()) "
    }
   },
   "types_to_exclude": [
    "module",
    "function",
    "builtin_function_or_method",
    "instance",
    "_Feature"
   ],
   "window_display": false
  }
 },
 "nbformat": 4,
 "nbformat_minor": 2
}
